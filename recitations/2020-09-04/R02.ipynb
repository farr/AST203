{
 "cells": [
  {
   "cell_type": "code",
   "execution_count": 1,
   "metadata": {},
   "outputs": [
    {
     "name": "stdout",
     "output_type": "stream",
     "text": [
      "Populating the interactive namespace from numpy and matplotlib\n"
     ]
    }
   ],
   "source": [
    "%pylab inline\n",
    "%config InlineBackend.figure_format = 'retina'"
   ]
  },
  {
   "cell_type": "code",
   "execution_count": 2,
   "metadata": {},
   "outputs": [],
   "source": [
    "import seaborn as sns\n",
    "\n",
    "sns.set_context('notebook')\n",
    "sns.set_palette('husl', n_colors=6)\n",
    "sns.set_style('ticks')"
   ]
  },
  {
   "cell_type": "markdown",
   "metadata": {},
   "source": [
    "What is the wavelength of a photon that will barely ionize H in the ground state?\n",
    "\n",
    "$$\n",
    "E_0 = 13.6 \\, \\mathrm{eV} = h \\nu = h \\frac{c}{\\lambda}\n",
    "$$\n",
    "\n",
    "$$\n",
    "\\lambda = \\frac{h c}{E_0} = 91 \\, \\mathrm{nm}\n",
    "$$"
   ]
  },
  {
   "cell_type": "markdown",
   "metadata": {},
   "source": [
    "Give the shortest wavelength photon involved in transitions in the Lyman ($n = 1$), Balmer ($n = 2$), and Paschen ($n = 3$) series.\n",
    "\n",
    "$$\n",
    "\\Delta E = 13.6 \\, \\mathrm{eV} \\times \\left( \\frac{1}{m^2} - \\frac{1}{n^2} \\right)\n",
    "$$\n",
    "\n",
    "If I want $\\lambda$ as small as possible, then I want $\\Delta E$ as large as possible, which means I want $m \\to \\infty$ at fixed $n$.  \n",
    "\n",
    "$$\n",
    "\\left| \\Delta E \\right| \\to 13.6 \\, \\mathrm{eV} \\times \\frac{1}{n^2} = 13.6 \\, \\mathrm{eV} \\times \\left\\{ 1, \\frac{1}{4}, \\frac{1}{9} \\right\\}\n",
    "$$\n",
    "\n",
    "Since $E \\propto 1/\\lambda$, then \n",
    "$$\n",
    "\\lambda = \\lambda \\left( \\Delta E = 13.6 \\, \\mathrm{eV} \\right) \\times \\left\\{ 1, 4, 9 \\right\\} = 91 \\, \\mathrm{nm}, 360 \\, \\mathrm{nm}, 810 \\, \\mathrm{nm}\n",
    "$$"
   ]
  },
  {
   "cell_type": "code",
   "execution_count": null,
   "metadata": {},
   "outputs": [],
   "source": []
  }
 ],
 "metadata": {
  "kernelspec": {
   "display_name": "Python 3",
   "language": "python",
   "name": "python3"
  },
  "language_info": {
   "codemirror_mode": {
    "name": "ipython",
    "version": 3
   },
   "file_extension": ".py",
   "mimetype": "text/x-python",
   "name": "python",
   "nbconvert_exporter": "python",
   "pygments_lexer": "ipython3",
   "version": "3.7.8"
  }
 },
 "nbformat": 4,
 "nbformat_minor": 4
}
