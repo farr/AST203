{
 "cells": [
  {
   "cell_type": "code",
   "execution_count": 1,
   "metadata": {},
   "outputs": [
    {
     "name": "stdout",
     "output_type": "stream",
     "text": [
      "Populating the interactive namespace from numpy and matplotlib\n"
     ]
    }
   ],
   "source": [
    "%pylab inline\n",
    "%config InlineBackend.figure_format = 'retina'"
   ]
  },
  {
   "cell_type": "code",
   "execution_count": 2,
   "metadata": {},
   "outputs": [],
   "source": [
    "import seaborn as sns\n",
    "\n",
    "sns.set_context('notebook')\n",
    "sns.set_palette('husl', n_colors=6)\n",
    "sns.set_style('ticks')"
   ]
  },
  {
   "cell_type": "markdown",
   "metadata": {},
   "source": [
    "Consider a hydrogen atom, with the electron in the ground state. Compute the ratio of the gravita- tional force between the proton and electron to the electric force between them. (Recall from your physics class that Fgrav = Gm1m2/r2 is the gravitational force between two objects of mass m1 and m2 separated by a distance r.)\n",
    "\n",
    "$$\n",
    "F_\\mathrm{grav} = \\frac{G m_1 m_2}{r^2}\n",
    "$$\n",
    "\n",
    "$$\n",
    "F_\\mathrm{EM} = \\frac{q_1 q_2}{r^2} = \\frac{1}{4 \\pi \\epsilon_0} \\frac{q_{1,\\mathrm{SI}} q_{2,\\mathrm{SI}}}{r^2}\n",
    "$$"
   ]
  },
  {
   "cell_type": "markdown",
   "metadata": {},
   "source": [
    "## Problems from Mike's Recitation Notes (See Blackboard):"
   ]
  },
  {
   "cell_type": "markdown",
   "metadata": {},
   "source": [
    "What is the wavelength of a photon that will barely ionize H in its ground state?\n",
    "\n",
    "$$\n",
    "E_0 = 13.6 \\, \\mathrm{eV}\n",
    "$$\n",
    "\n",
    "$$\n",
    "h \\nu = h \\frac{c}{\\lambda} = E_0\n",
    "$$\n",
    "\n",
    "$$\n",
    "\\lambda = \\frac{h c}{E_0} \\simeq 91 \\, \\mathrm{nm}\n",
    "$$"
   ]
  },
  {
   "cell_type": "markdown",
   "metadata": {},
   "source": [
    "Find the shortest wavelength for a photon emitted by a transition in the Lyman, Ballmer, Paschen lines of H.\n",
    "\n",
    "$$\n",
    "\\Delta E = 13.6 \\, \\mathrm{eV} \\times \\left( \\frac{1}{m^2} - \\frac{1}{n^2} \\right)\n",
    "$$\n",
    "\n",
    "Lyman, $n = 1$; Ballmer, $n = 2$; Paschen $n = 3$.  So, for small $\\lambda$, I want large $E$, which means I want $m \\to \\infty$.\n",
    "\n",
    "$$\n",
    "\\Delta E_\\mathrm{max} = 13.6 \\, \\mathrm{eV} \\times \\frac{1}{n^2}\n",
    "$$\n",
    "\n",
    "$$\n",
    "\\lambda_\\mathrm{min} = \\lambda\\left( 13.6 \\, \\mathrm{eV} \\right) \\times n^2 = 91 \\, \\mathrm{nm} \\times \\left\\{ 1, 4, 9 \\right\\}\n",
    "$$"
   ]
  },
  {
   "cell_type": "code",
   "execution_count": null,
   "metadata": {},
   "outputs": [],
   "source": []
  }
 ],
 "metadata": {
  "kernelspec": {
   "display_name": "Python 3",
   "language": "python",
   "name": "python3"
  },
  "language_info": {
   "codemirror_mode": {
    "name": "ipython",
    "version": 3
   },
   "file_extension": ".py",
   "mimetype": "text/x-python",
   "name": "python",
   "nbconvert_exporter": "python",
   "pygments_lexer": "ipython3",
   "version": "3.7.8"
  }
 },
 "nbformat": 4,
 "nbformat_minor": 4
}
