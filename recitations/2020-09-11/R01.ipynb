{
 "cells": [
  {
   "cell_type": "code",
   "execution_count": 1,
   "metadata": {},
   "outputs": [
    {
     "name": "stdout",
     "output_type": "stream",
     "text": [
      "Populating the interactive namespace from numpy and matplotlib\n"
     ]
    }
   ],
   "source": [
    "%pylab inline\n",
    "%config InlineBackend.figure_format = 'retina'"
   ]
  },
  {
   "cell_type": "code",
   "execution_count": 6,
   "metadata": {},
   "outputs": [],
   "source": [
    "import astropy.constants as ac\n",
    "import astropy.units as u\n",
    "import seaborn as sns\n",
    "\n",
    "sns.set_palette('husl', n_colors=6)\n",
    "sns.set_context('notebook')\n",
    "sns.set_style('ticks')"
   ]
  },
  {
   "cell_type": "markdown",
   "metadata": {},
   "source": [
    "The Sun is a G2 V star (V is the luminosity class, indicating that it is on the main sequence). By what factor would the Sun’s radius need to change if it were to be a G2 I star? (i.e. the spectral type stays the same, but the luminosity class changes)."
   ]
  },
  {
   "cell_type": "markdown",
   "metadata": {},
   "source": [
    "We looked it up, and class I is $M_V \\sim -6$ while the class V is $M_V \\sim +6$, so there are 12 magnitudes difference between the classes.  That means:\n",
    "$$\n",
    "\\Delta M_V = 12 = 2.5 \\log_{10} \\left( \\frac{L_I}{L_V} \\right)\n",
    "$$\n",
    "or\n",
    "$$\n",
    "\\frac{L_I}{L_V} \\simeq 10^{4.8}\n",
    "$$"
   ]
  },
  {
   "cell_type": "code",
   "execution_count": 21,
   "metadata": {},
   "outputs": [
    {
     "data": {
      "text/plain": [
       "63095.7344480193"
      ]
     },
     "execution_count": 21,
     "metadata": {},
     "output_type": "execute_result"
    }
   ],
   "source": [
    "LI_over_LV = 10**4.8\n",
    "LI_over_LV"
   ]
  },
  {
   "cell_type": "markdown",
   "metadata": {},
   "source": [
    "G2 spectral class implies a particular temperature, $T_\\odot$.  That is fixed.  The emission from a star\n",
    "$$\n",
    "L = 4\\pi R^2 \\sigma T^4\n",
    "$$\n",
    "this implies\n",
    "$$\n",
    "\\left( \\frac{R_I}{R_V}\\right)^2 = \\frac{L_I}{L_V}\n",
    "$$\n",
    "or\n",
    "$$\n",
    "R_I = 10^{2.4} \\simeq 250\n",
    "$$"
   ]
  },
  {
   "cell_type": "code",
   "execution_count": 22,
   "metadata": {},
   "outputs": [
    {
     "data": {
      "text/plain": [
       "251.18864315095797"
      ]
     },
     "execution_count": 22,
     "metadata": {},
     "output_type": "execute_result"
    }
   ],
   "source": [
    "sqrt(LI_over_LV)"
   ]
  },
  {
   "cell_type": "markdown",
   "metadata": {},
   "source": [
    "Go over absolute magnitudes (e.g. Problem 4, HW 1).  \n",
    "$$\n",
    "M = m - \\mu,\n",
    "$$\n",
    "where $m$ is the apparent magnitude and $\\mu$ is the distance modulus \n",
    "$$\n",
    "\\mu \\equiv 5 \\log_{10} \\frac{d}{10 \\, \\mathrm{pc}}.\n",
    "$$\n",
    "\n",
    "In HW 1, problem 4, you are told that the sun has $M = 4.72$.  Show that the absolute magnitude of a star with luminosity $L$ is \n",
    "$$\n",
    "M\\left( L \\right) = 4.72 - 2.5 \\log_{10} \\frac{L}{L_\\odot}\n",
    "$$\n",
    "\n",
    "The flux of any star at $10 \\, \\mathrm{pc}$ is \n",
    "$$\n",
    "F_{10} = \\frac{L}{4 \\pi \\left( 10 \\, \\mathrm{pc} \\right)^2}\n",
    "$$\n",
    "Now comparing to the sun:\n",
    "$$\n",
    "M\\left( L \\right) - M_\\odot = 2.5 \\log_{10} \\frac{F_\\odot}{F\\left(L \\right)}\n",
    "$$\n",
    "\n",
    "The flux of the sun is \n",
    "$$\n",
    "F_\\odot = \\frac{L_\\odot}{4 \\pi \\left( 10 \\, \\mathrm{pc} \\right)^2}, \n",
    "$$\n",
    "so \n",
    "$$\n",
    "M(L) = M_\\odot - 2.5 \\log_{10} \\frac{L}{L_\\odot}\n",
    "$$"
   ]
  },
  {
   "cell_type": "markdown",
   "metadata": {},
   "source": [
    "## Problem 3 from HW 1"
   ]
  },
  {
   "cell_type": "markdown",
   "metadata": {},
   "source": [
    "Sirius is the brightest star in the night sky mainly because it is so close to us. The parallax of Sirius is 0.379′′, and its apparent magnitude is -1.46. Is it intrinsically more luminous or less luminous than the Sun?"
   ]
  },
  {
   "cell_type": "markdown",
   "metadata": {},
   "source": [
    "$$\n",
    "M = m - \\mu,\n",
    "$$\n",
    "where $m$ is the apparent magnitude and $\\mu$ is the distance modulus \n",
    "$$\n",
    "\\mu \\equiv 5 \\log_{10} \\frac{d}{10 \\, \\mathrm{pc}}.\n",
    "$$\n"
   ]
  },
  {
   "cell_type": "code",
   "execution_count": 25,
   "metadata": {},
   "outputs": [
    {
     "data": {
      "text/plain": [
       "2.638522427440633"
      ]
     },
     "execution_count": 25,
     "metadata": {},
     "output_type": "execute_result"
    }
   ],
   "source": [
    "d_to_Sirius = 1 / 0.379 # parsecs\n",
    "d_to_Sirius"
   ]
  },
  {
   "cell_type": "code",
   "execution_count": 26,
   "metadata": {},
   "outputs": [
    {
     "data": {
      "text/plain": [
       "1.4331960498403618"
      ]
     },
     "execution_count": 26,
     "metadata": {},
     "output_type": "execute_result"
    }
   ],
   "source": [
    "mu_Sirius = 5*log10(d_to_Sirius / 10)\n",
    "M_Sirius = -1.46 - mu_Sirius\n",
    "M_Sirius"
   ]
  },
  {
   "cell_type": "code",
   "execution_count": 27,
   "metadata": {},
   "outputs": [],
   "source": [
    "M_Sun = 4.76"
   ]
  },
  {
   "cell_type": "markdown",
   "metadata": {},
   "source": [
    "## Resolution of Eye"
   ]
  },
  {
   "cell_type": "markdown",
   "metadata": {},
   "source": [
    "We could maybe see 0.5 mm gaps at a distance of 1 m.  That implies an angular resolution \n",
    "$$\n",
    "\\theta \\simeq \\frac{0.5 \\, \\mathrm{mm}}{1 \\, \\mathrm{m}} = 5\\times 10^{-4} \\, \\mathrm{rad} = 0.02^\\circ \\simeq 1.7'\n",
    "$$"
   ]
  },
  {
   "cell_type": "code",
   "execution_count": 30,
   "metadata": {},
   "outputs": [
    {
     "data": {
      "text/plain": [
       "0.02864788975654116"
      ]
     },
     "execution_count": 30,
     "metadata": {},
     "output_type": "execute_result"
    }
   ],
   "source": [
    "eye_resolution_deg = 5e-4 * 180 / pi # degrees\n",
    "eye_resolution_deg"
   ]
  },
  {
   "cell_type": "code",
   "execution_count": 31,
   "metadata": {},
   "outputs": [
    {
     "data": {
      "text/plain": [
       "1.7188733853924696"
      ]
     },
     "execution_count": 31,
     "metadata": {},
     "output_type": "execute_result"
    }
   ],
   "source": [
    "60*eye_resolution_deg # arcmin"
   ]
  },
  {
   "cell_type": "code",
   "execution_count": null,
   "metadata": {},
   "outputs": [],
   "source": []
  }
 ],
 "metadata": {
  "kernelspec": {
   "display_name": "Python 3",
   "language": "python",
   "name": "python3"
  },
  "language_info": {
   "codemirror_mode": {
    "name": "ipython",
    "version": 3
   },
   "file_extension": ".py",
   "mimetype": "text/x-python",
   "name": "python",
   "nbconvert_exporter": "python",
   "pygments_lexer": "ipython3",
   "version": "3.7.8"
  }
 },
 "nbformat": 4,
 "nbformat_minor": 4
}
