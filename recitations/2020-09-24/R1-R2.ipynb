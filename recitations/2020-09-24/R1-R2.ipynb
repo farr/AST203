{
 "cells": [
  {
   "cell_type": "code",
   "execution_count": 1,
   "metadata": {},
   "outputs": [
    {
     "name": "stdout",
     "output_type": "stream",
     "text": [
      "Populating the interactive namespace from numpy and matplotlib\n"
     ]
    }
   ],
   "source": [
    "%pylab inline\n",
    "%config InlineBackend.figure_format = 'retina'"
   ]
  },
  {
   "cell_type": "code",
   "execution_count": 2,
   "metadata": {},
   "outputs": [],
   "source": [
    "import astropy.units as u"
   ]
  },
  {
   "cell_type": "markdown",
   "metadata": {},
   "source": [
    "## HW3 Problem 5"
   ]
  },
  {
   "cell_type": "markdown",
   "metadata": {},
   "source": [
    "You observe a binary system and see Doppler shifts in the Hβ lines from the two stars of 0.02 nm and 0.05 nm respectively. Patient observations show that the period is 22 years. If the system is inclined by 60◦, what are the masses of the two stars?"
   ]
  },
  {
   "cell_type": "markdown",
   "metadata": {},
   "source": [
    "$$\n",
    "v_\\mathrm{orb} = \\frac{v_r}{\\sin \\iota}\n",
    "$$"
   ]
  },
  {
   "cell_type": "markdown",
   "metadata": {},
   "source": [
    "We also know that \n",
    "$$\n",
    "\\frac{\\Delta \\lambda}{\\lambda} = \\frac{v_r}{c}\n",
    "$$\n",
    "or\n",
    "$$\n",
    "v_r = c \\frac{\\Delta \\lambda}{\\lambda} \n",
    "$$"
   ]
  },
  {
   "cell_type": "code",
   "execution_count": 22,
   "metadata": {},
   "outputs": [
    {
     "data": {
      "text/plain": [
       "63240.98046938311"
      ]
     },
     "execution_count": 22,
     "metadata": {},
     "output_type": "execute_result"
    }
   ],
   "source": [
    "c_in_2piAU_year = (2.99792e8 * u.m/u.s).to(u.AU / u.yr).value\n",
    "c_in_2piAU_year"
   ]
  },
  {
   "cell_type": "code",
   "execution_count": 23,
   "metadata": {},
   "outputs": [
    {
     "data": {
      "text/latex": [
       "$486.135 \\; \\mathrm{nm}$"
      ],
      "text/plain": [
       "<Quantity 486.135 nm>"
      ]
     },
     "execution_count": 23,
     "metadata": {},
     "output_type": "execute_result"
    }
   ],
   "source": [
    "lambda_Hbeta = 486.135*u.nm\n",
    "lambda_Hbeta"
   ]
  },
  {
   "cell_type": "code",
   "execution_count": 24,
   "metadata": {},
   "outputs": [
    {
     "data": {
      "text/plain": [
       "(<Quantity 2.60178677>, <Quantity 6.50446691>)"
      ]
     },
     "execution_count": 24,
     "metadata": {},
     "output_type": "execute_result"
    }
   ],
   "source": [
    "vr1 = 0.02*u.nm / lambda_Hbeta * c_in_2piAU_year\n",
    "vr2 = 0.05*u.nm / lambda_Hbeta * c_in_2piAU_year\n",
    "vr1, vr2"
   ]
  },
  {
   "cell_type": "code",
   "execution_count": 25,
   "metadata": {},
   "outputs": [],
   "source": [
    "iota = 60 * pi / 180 # inclination in radians"
   ]
  },
  {
   "cell_type": "code",
   "execution_count": 26,
   "metadata": {},
   "outputs": [
    {
     "data": {
      "text/plain": [
       "(<Quantity 3.00428458>, <Quantity 7.51071145>)"
      ]
     },
     "execution_count": 26,
     "metadata": {},
     "output_type": "execute_result"
    }
   ],
   "source": [
    "v1 = vr1 / sin(iota)\n",
    "v2 = vr2 / sin(iota)\n",
    "(v1, v2)"
   ]
  },
  {
   "cell_type": "code",
   "execution_count": 27,
   "metadata": {},
   "outputs": [],
   "source": [
    "P = 22 # years"
   ]
  },
  {
   "cell_type": "code",
   "execution_count": 28,
   "metadata": {},
   "outputs": [
    {
     "data": {
      "text/plain": [
       "(<Quantity 10.51922831>, <Quantity 26.29807077>)"
      ]
     },
     "execution_count": 28,
     "metadata": {},
     "output_type": "execute_result"
    }
   ],
   "source": [
    "R1 = v1*P/(2*pi)\n",
    "R2 = v2*P/(2*pi)\n",
    "(R1, R2)"
   ]
  },
  {
   "cell_type": "code",
   "execution_count": 29,
   "metadata": {},
   "outputs": [
    {
     "data": {
      "text/latex": [
       "$103.11229 \\; \\mathrm{}$"
      ],
      "text/plain": [
       "<Quantity 103.11228583>"
      ]
     },
     "execution_count": 29,
     "metadata": {},
     "output_type": "execute_result"
    }
   ],
   "source": [
    "Mtotal = (R1+R2)**3/P**2\n",
    "Mtotal # Solar masses"
   ]
  },
  {
   "cell_type": "markdown",
   "metadata": {},
   "source": [
    "The mass ratio is independent of the inclination:\n",
    "$$\n",
    "q = \\frac{m_1}{m_2} = \\frac{v_2}{v_1} = \\frac{\\Delta \\lambda_2}{\\Delta \\lambda_1}\n",
    "$$"
   ]
  },
  {
   "cell_type": "code",
   "execution_count": 30,
   "metadata": {},
   "outputs": [],
   "source": [
    "q = 0.05/0.02"
   ]
  },
  {
   "cell_type": "markdown",
   "metadata": {},
   "source": [
    "$$\n",
    "M_\\mathrm{tot} = m_1 + m_2 = q m_2 + m_2 = m_1 + \\frac{m_1}{q}\n",
    "$$\n",
    "implies \n",
    "$$\n",
    "m_2 = \\frac{M_\\mathrm{tot}}{1 + q}\n",
    "$$\n",
    "and\n",
    "$$\n",
    "m_1 = \\frac{M_\\mathrm{tot}}{1 + \\frac{1}{q}}\n",
    "$$"
   ]
  },
  {
   "cell_type": "code",
   "execution_count": 31,
   "metadata": {},
   "outputs": [
    {
     "data": {
      "text/plain": [
       "(<Quantity 73.65163274>, <Quantity 29.46065309>)"
      ]
     },
     "execution_count": 31,
     "metadata": {},
     "output_type": "execute_result"
    }
   ],
   "source": [
    "m2 = Mtotal/(1+q)\n",
    "m1 = Mtotal/(1+1/q)\n",
    "m1, m2"
   ]
  },
  {
   "cell_type": "markdown",
   "metadata": {},
   "source": [
    "## HW3 Problem 1"
   ]
  },
  {
   "cell_type": "markdown",
   "metadata": {},
   "source": [
    "The Hubble Space Telescope has an angular resolution of about 0.05′′ in visible wavelengths. Suppose you were studying binary systems consisting of two 1 $M_\\odot$ stars.\n",
    "\n",
    "1. How far away could a system with a period of P = 1 yr be while still being able to resolve the individual stars? (This means that the angular separation between the stars is approximately equal to the angular resolution of the telescope.)\n",
    "\n",
    "1. If the period were instead P = 3 months, how far can the system be if you can just resolve the stars?"
   ]
  },
  {
   "cell_type": "markdown",
   "metadata": {},
   "source": [
    "Recall Kepler's third law:\n",
    "$$\n",
    "\\left( \\frac{R}{1 \\, \\mathrm{AU}} \\right)^3 = \\frac{M}{M_\\odot} \\left( \\frac{P}{1 \\, \\mathrm{yr}} \\right)^2\n",
    "$$"
   ]
  },
  {
   "cell_type": "code",
   "execution_count": 32,
   "metadata": {},
   "outputs": [
    {
     "data": {
      "text/plain": [
       "1.2599210498948732"
      ]
     },
     "execution_count": 32,
     "metadata": {},
     "output_type": "execute_result"
    }
   ],
   "source": [
    "R_part_1 = cbrt(2)\n",
    "R_part_1"
   ]
  },
  {
   "cell_type": "markdown",
   "metadata": {},
   "source": [
    "Remember, if distances in parsecs and separation in AU and angles in arcsec, then \n",
    "$$\n",
    "R = d \\theta\n",
    "$$"
   ]
  },
  {
   "cell_type": "code",
   "execution_count": 33,
   "metadata": {},
   "outputs": [
    {
     "data": {
      "text/plain": [
       "25.19842099789746"
      ]
     },
     "execution_count": 33,
     "metadata": {},
     "output_type": "execute_result"
    }
   ],
   "source": [
    "max_distance_part_1 = R_part_1 / 0.05 # parsecs\n",
    "max_distance_part_1"
   ]
  },
  {
   "cell_type": "code",
   "execution_count": 35,
   "metadata": {},
   "outputs": [
    {
     "data": {
      "text/plain": [
       "0.5"
      ]
     },
     "execution_count": 35,
     "metadata": {},
     "output_type": "execute_result"
    }
   ],
   "source": [
    "R_part_2 = cbrt(2*(3/12.0)**2)\n",
    "R_part_2"
   ]
  },
  {
   "cell_type": "code",
   "execution_count": 36,
   "metadata": {},
   "outputs": [
    {
     "data": {
      "text/plain": [
       "10.0"
      ]
     },
     "execution_count": 36,
     "metadata": {},
     "output_type": "execute_result"
    }
   ],
   "source": [
    "max_distance_part_2 = R_part_2 / 0.05 \n",
    "max_distance_part_2"
   ]
  },
  {
   "cell_type": "code",
   "execution_count": null,
   "metadata": {},
   "outputs": [],
   "source": []
  }
 ],
 "metadata": {
  "kernelspec": {
   "display_name": "Python 3",
   "language": "python",
   "name": "python3"
  },
  "language_info": {
   "codemirror_mode": {
    "name": "ipython",
    "version": 3
   },
   "file_extension": ".py",
   "mimetype": "text/x-python",
   "name": "python",
   "nbconvert_exporter": "python",
   "pygments_lexer": "ipython3",
   "version": "3.7.8"
  }
 },
 "nbformat": 4,
 "nbformat_minor": 4
}
